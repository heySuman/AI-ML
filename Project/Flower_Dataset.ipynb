{
  "nbformat": 4,
  "nbformat_minor": 0,
  "metadata": {
    "colab": {
      "provenance": [],
      "gpuType": "T4"
    },
    "kernelspec": {
      "name": "python3",
      "display_name": "Python 3"
    },
    "language_info": {
      "name": "python"
    },
    "accelerator": "GPU"
  },
  "cells": [
    {
      "cell_type": "code",
      "execution_count": 1,
      "metadata": {
        "id": "ntqUedxXeKCT"
      },
      "outputs": [],
      "source": [
        "train_dir = '/content/drive/MyDrive/AI ML/Project/Flower Classification/Train'\n",
        "test_dir = '/content/drive/MyDrive/AI ML/Project/Flower Classification/Test'"
      ]
    },
    {
      "cell_type": "code",
      "source": [
        "import os\n",
        "from PIL import Image, UnidentifiedImageError\n",
        "\n",
        "class_names = sorted(os.listdir(train_dir))\n",
        "class_names"
      ],
      "metadata": {
        "colab": {
          "base_uri": "https://localhost:8080/"
        },
        "id": "ohfkBfogfGlH",
        "outputId": "067842f9-801f-4bc2-9daa-09b2d91debda"
      },
      "execution_count": 4,
      "outputs": [
        {
          "output_type": "execute_result",
          "data": {
            "text/plain": [
              "['daisy', 'dandelion', 'rose', 'sunflower', 'tulip']"
            ]
          },
          "metadata": {},
          "execution_count": 4
        }
      ]
    },
    {
      "cell_type": "code",
      "source": [
        "corrupted_images = []\n",
        "\n",
        "for class_name in class_names:\n",
        "    class_path = os.path.join(train_dir, class_name)\n",
        "\n",
        "    if os.path.isdir(class_name):\n",
        "        images = os.listdir(class_path)\n",
        "\n",
        "        for img_name in images:\n",
        "            img_path = os.path.join(class_path, img_name)\n",
        "            try:\n",
        "                with Image.open(img_path) as img:\n",
        "                    img.verify()\n",
        "            except (IOError, UnidentifiedImageError):\n",
        "                corrupted_images.append(img_path)\n",
        "\n",
        "# Print results\n",
        "if corrupted_images:\n",
        "    print(\"\\nCorrupted Images Found:\")\n",
        "    for img in corrupted_images:\n",
        "        print(img)\n",
        "else:\n",
        "    print(\"\\nNo corrupted images found.\")"
      ],
      "metadata": {
        "colab": {
          "base_uri": "https://localhost:8080/"
        },
        "id": "HheP4fGpfuNP",
        "outputId": "68d2a9cc-c58b-4b26-b06b-ceb3f955075e"
      },
      "execution_count": 7,
      "outputs": [
        {
          "output_type": "stream",
          "name": "stdout",
          "text": [
            "\n",
            "No corrupted images found.\n"
          ]
        }
      ]
    },
    {
      "cell_type": "code",
      "source": [
        "# Dictionary to store class counts\n",
        "class_counts = {}\n",
        "for class_name in class_names:\n",
        "    class_path = os.path.join(train_dir, class_name)\n",
        "    if os.path.isdir(class_path):\n",
        "        images = [img for img in os.listdir(class_path) if img.lower().endswith(('.png','.jpg','.jpeg'))]\n",
        "        class_counts[class_name] = len(images)\n",
        "\n",
        "# Print Class Balance\n",
        "print(\"\\nClass Distribution:\")\n",
        "print(\"=\" * 45)\n",
        "print(f\"{'Class Name':<25}{'Valid Image Count':>15}\")\n",
        "print(\"=\" * 45)\n",
        "\n",
        "for class_name, count in class_counts.items():\n",
        "    print(f\"{class_name:<25}{count:>15}\")"
      ],
      "metadata": {
        "colab": {
          "base_uri": "https://localhost:8080/"
        },
        "id": "Qfx6jXEphdf4",
        "outputId": "824a813c-ef1e-4c86-da0e-8c007003bf3a"
      },
      "execution_count": 12,
      "outputs": [
        {
          "output_type": "stream",
          "name": "stdout",
          "text": [
            "\n",
            "Class Distribution:\n",
            "=============================================\n",
            "Class Name               Valid Image Count\n",
            "=============================================\n",
            "daisy                                763\n",
            "dandelion                           1051\n",
            "rose                                 783\n",
            "sunflower                            732\n",
            "tulip                                983\n"
          ]
        }
      ]
    }
  ]
}